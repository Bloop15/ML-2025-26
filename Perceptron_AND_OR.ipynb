{
  "nbformat": 4,
  "nbformat_minor": 0,
  "metadata": {
    "colab": {
      "provenance": [],
      "authorship_tag": "ABX9TyPJ6bvxQzsUUmba/XasUsYz",
      "include_colab_link": true
    },
    "kernelspec": {
      "name": "python3",
      "display_name": "Python 3"
    },
    "language_info": {
      "name": "python"
    }
  },
  "cells": [
    {
      "cell_type": "markdown",
      "metadata": {
        "id": "view-in-github",
        "colab_type": "text"
      },
      "source": [
        "<a href=\"https://colab.research.google.com/github/Bloop15/ML-2025-26/blob/main/Perceptron_AND_OR.ipynb\" target=\"_parent\"><img src=\"https://colab.research.google.com/assets/colab-badge.svg\" alt=\"Open In Colab\"/></a>"
      ]
    },
    {
      "cell_type": "code",
      "execution_count": null,
      "metadata": {
        "id": "foRbeikDCRuJ"
      },
      "outputs": [],
      "source": [
        "#Import the Libraries\n",
        "import numpy as np\n",
        "from sklearn.linear_model import Perceptron"
      ]
    },
    {
      "cell_type": "code",
      "source": [
        "# Define in the inputs and targets\n",
        "X=np.array([\n",
        "    [0, 0],\n",
        "    [0, 1],\n",
        "    [1, 0],\n",
        "    [1, 1]\n",
        "])\n",
        "\n",
        "y_and= np.array([0, 0, 0, 1])\n",
        "y_or= np.array([0, 1, 1, 1])\n"
      ],
      "metadata": {
        "id": "ug_r18XZDFjo"
      },
      "execution_count": null,
      "outputs": []
    },
    {
      "cell_type": "code",
      "source": [
        "# Define the model\n",
        "def train_gate(X, y, gate_name):\n",
        "  model= Perceptron(max_iter=1000, tol=1e-3, random_state=42)\n",
        "  model.fit(X, y)\n",
        "\n",
        "  print(f\"\\n{gate_name} Gate Results: \")\n",
        "  for i in X:\n",
        "    pred= model.predict([i])\n",
        "    print(f\"Input: {i}, Output: {pred}\")\n",
        "  print(\"-\"*50)\n"
      ],
      "metadata": {
        "id": "hwt7n6_ODqCI"
      },
      "execution_count": null,
      "outputs": []
    },
    {
      "cell_type": "code",
      "source": [
        "# Output for AND Gate\n",
        "train_gate(X, y_and, \"AND\")\n",
        "\n",
        "# Output for OR Gate\n",
        "train_gate(X, y_or, \"OR\")"
      ],
      "metadata": {
        "colab": {
          "base_uri": "https://localhost:8080/"
        },
        "id": "R_yuIR3ZETNw",
        "outputId": "efad7deb-c94f-4cb3-d189-f8b2f10ad2e0"
      },
      "execution_count": null,
      "outputs": [
        {
          "output_type": "stream",
          "name": "stdout",
          "text": [
            "\n",
            "AND Gate Results: \n",
            "Input: [0 0], Output: [0]\n",
            "Input: [0 1], Output: [0]\n",
            "Input: [1 0], Output: [0]\n",
            "Input: [1 1], Output: [1]\n",
            "--------------------------------------------------\n",
            "\n",
            "OR Gate Results: \n",
            "Input: [0 0], Output: [0]\n",
            "Input: [0 1], Output: [1]\n",
            "Input: [1 0], Output: [1]\n",
            "Input: [1 1], Output: [1]\n",
            "--------------------------------------------------\n"
          ]
        }
      ]
    }
  ]
}